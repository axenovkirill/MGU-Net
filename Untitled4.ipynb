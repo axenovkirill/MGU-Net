{
  "nbformat": 4,
  "nbformat_minor": 0,
  "metadata": {
    "colab": {
      "name": "Untitled4.ipynb",
      "provenance": [],
      "collapsed_sections": [],
      "mount_file_id": "1awULoFdjZ3fD4a5bgTjs9cJwNPkyqNkX",
      "authorship_tag": "ABX9TyOUsXVuAUlaaBbThOf2BcLJ",
      "include_colab_link": true
    },
    "kernelspec": {
      "name": "python3",
      "display_name": "Python 3"
    },
    "language_info": {
      "name": "python"
    },
    "accelerator": "GPU"
  },
  "cells": [
    {
      "cell_type": "markdown",
      "metadata": {
        "id": "view-in-github",
        "colab_type": "text"
      },
      "source": [
        "<a href=\"https://colab.research.google.com/github/axenovkirill/MGU-Net/blob/main/Untitled4.ipynb\" target=\"_parent\"><img src=\"https://colab.research.google.com/assets/colab-badge.svg\" alt=\"Open In Colab\"/></a>"
      ]
    },
    {
      "cell_type": "code",
      "source": [
        "%run drive/MyDrive/MGUNetmain/main_ts.py --name tsmgunet -d ./data/dataset --batch-size 1 --epoch 50 --lr 0.001"
      ],
      "metadata": {
        "colab": {
          "base_uri": "https://localhost:8080/",
          "height": 395
        },
        "id": "HH4ySRAaKOYU",
        "outputId": "258c5a31-9036-4bbe-de74-310b7bede789"
      },
      "execution_count": 11,
      "outputs": [
        {
          "output_type": "error",
          "ename": "ModuleNotFoundError",
          "evalue": "ignored",
          "traceback": [
            "\u001b[0;31m---------------------------------------------------------------------------\u001b[0m",
            "\u001b[0;31mModuleNotFoundError\u001b[0m                       Traceback (most recent call last)",
            "\u001b[0;32m/content/drive/MyDrive/MGUNetmain/main_ts.py\u001b[0m in \u001b[0;36m<module>\u001b[0;34m()\u001b[0m\n\u001b[1;32m     21\u001b[0m \u001b[0;32mfrom\u001b[0m \u001b[0mdata\u001b[0m\u001b[0;34m.\u001b[0m\u001b[0mseg_dataset\u001b[0m \u001b[0;32mimport\u001b[0m \u001b[0msegList\u001b[0m\u001b[0;34m\u001b[0m\u001b[0;34m\u001b[0m\u001b[0m\n\u001b[1;32m     22\u001b[0m \u001b[0;32mfrom\u001b[0m \u001b[0mutils\u001b[0m\u001b[0;34m.\u001b[0m\u001b[0mlogger\u001b[0m \u001b[0;32mimport\u001b[0m \u001b[0mLogger\u001b[0m\u001b[0;34m\u001b[0m\u001b[0;34m\u001b[0m\u001b[0m\n\u001b[0;32m---> 23\u001b[0;31m \u001b[0;32mfrom\u001b[0m \u001b[0mmodels\u001b[0m\u001b[0;34m.\u001b[0m\u001b[0mnet_builder\u001b[0m \u001b[0;32mimport\u001b[0m \u001b[0mnet_builder\u001b[0m\u001b[0;34m\u001b[0m\u001b[0;34m\u001b[0m\u001b[0m\n\u001b[0m\u001b[1;32m     24\u001b[0m \u001b[0;32mfrom\u001b[0m \u001b[0mutils\u001b[0m\u001b[0;34m.\u001b[0m\u001b[0mloss\u001b[0m \u001b[0;32mimport\u001b[0m \u001b[0mloss_builder1\u001b[0m\u001b[0;34m,\u001b[0m\u001b[0mloss_builder2\u001b[0m\u001b[0;34m\u001b[0m\u001b[0;34m\u001b[0m\u001b[0m\n\u001b[1;32m     25\u001b[0m \u001b[0;32mfrom\u001b[0m \u001b[0mutils\u001b[0m\u001b[0;34m.\u001b[0m\u001b[0mutils\u001b[0m \u001b[0;32mimport\u001b[0m \u001b[0madjust_learning_rate\u001b[0m\u001b[0;34m\u001b[0m\u001b[0;34m\u001b[0m\u001b[0m\n",
            "\u001b[0;32m/content/drive/MyDrive/MGUNetmain/models/net_builder.py\u001b[0m in \u001b[0;36m<module>\u001b[0;34m()\u001b[0m\n\u001b[0;32m----> 1\u001b[0;31m \u001b[0;32mfrom\u001b[0m \u001b[0mmodels\u001b[0m\u001b[0;34m.\u001b[0m\u001b[0mnets\u001b[0m\u001b[0;34m.\u001b[0m\u001b[0mTSNet\u001b[0m \u001b[0;32mimport\u001b[0m \u001b[0mTSMGUNet\u001b[0m\u001b[0;34m\u001b[0m\u001b[0;34m\u001b[0m\u001b[0m\n\u001b[0m\u001b[1;32m      2\u001b[0m \u001b[0;32mfrom\u001b[0m \u001b[0mmodels\u001b[0m\u001b[0;34m.\u001b[0m\u001b[0mnets\u001b[0m\u001b[0;34m.\u001b[0m\u001b[0mOSNet\u001b[0m \u001b[0;32mimport\u001b[0m \u001b[0mOSMGUNet\u001b[0m\u001b[0;34m\u001b[0m\u001b[0;34m\u001b[0m\u001b[0m\n\u001b[1;32m      3\u001b[0m \u001b[0;34m\u001b[0m\u001b[0m\n\u001b[1;32m      4\u001b[0m \u001b[0;32mdef\u001b[0m \u001b[0mnet_builder\u001b[0m\u001b[0;34m(\u001b[0m\u001b[0mname\u001b[0m\u001b[0;34m,\u001b[0m\u001b[0mpretrained_model\u001b[0m\u001b[0;34m=\u001b[0m\u001b[0;32mNone\u001b[0m\u001b[0;34m,\u001b[0m\u001b[0mpretrained\u001b[0m\u001b[0;34m=\u001b[0m\u001b[0;32mFalse\u001b[0m\u001b[0;34m)\u001b[0m\u001b[0;34m:\u001b[0m\u001b[0;34m\u001b[0m\u001b[0;34m\u001b[0m\u001b[0m\n\u001b[1;32m      5\u001b[0m     \u001b[0;32mif\u001b[0m \u001b[0mname\u001b[0m \u001b[0;34m==\u001b[0m \u001b[0;34m'tsmgunet'\u001b[0m\u001b[0;34m:\u001b[0m\u001b[0;34m\u001b[0m\u001b[0;34m\u001b[0m\u001b[0m\n",
            "\u001b[0;32m/content/drive/MyDrive/MGUNetmain/models/nets/TSNet.py\u001b[0m in \u001b[0;36m<module>\u001b[0;34m()\u001b[0m\n\u001b[1;32m      3\u001b[0m \u001b[0;32mimport\u001b[0m \u001b[0mcopy\u001b[0m\u001b[0;34m\u001b[0m\u001b[0;34m\u001b[0m\u001b[0m\n\u001b[1;32m      4\u001b[0m \u001b[0;32mimport\u001b[0m \u001b[0mtorch\u001b[0m\u001b[0;34m.\u001b[0m\u001b[0mnn\u001b[0m\u001b[0;34m.\u001b[0m\u001b[0mfunctional\u001b[0m \u001b[0;32mas\u001b[0m \u001b[0mF\u001b[0m\u001b[0;34m\u001b[0m\u001b[0;34m\u001b[0m\u001b[0m\n\u001b[0;32m----> 5\u001b[0;31m \u001b[0;32mfrom\u001b[0m \u001b[0mmodels\u001b[0m\u001b[0;34m.\u001b[0m\u001b[0mnets\u001b[0m\u001b[0;34m.\u001b[0m\u001b[0mMGUNet\u001b[0m \u001b[0;32mimport\u001b[0m \u001b[0mMGUNet_1\u001b[0m\u001b[0;34m,\u001b[0m \u001b[0mMGUNet_2\u001b[0m\u001b[0;34m\u001b[0m\u001b[0;34m\u001b[0m\u001b[0m\n\u001b[0m\u001b[1;32m      6\u001b[0m \u001b[0;32mfrom\u001b[0m \u001b[0mmodels\u001b[0m\u001b[0;34m.\u001b[0m\u001b[0mutils\u001b[0m\u001b[0;34m.\u001b[0m\u001b[0mutils\u001b[0m \u001b[0;32mimport\u001b[0m \u001b[0mimg2df\u001b[0m\u001b[0;34m,\u001b[0m \u001b[0mfeature_fusion\u001b[0m\u001b[0;34m\u001b[0m\u001b[0;34m\u001b[0m\u001b[0m\n\u001b[1;32m      7\u001b[0m \u001b[0;34m\u001b[0m\u001b[0m\n",
            "\u001b[0;32m/content/drive/MyDrive/MGUNetmain/models/nets/MGUNet.py\u001b[0m in \u001b[0;36m<module>\u001b[0;34m()\u001b[0m\n\u001b[1;32m      2\u001b[0m \u001b[0;32mimport\u001b[0m \u001b[0mtorch\u001b[0m\u001b[0;34m.\u001b[0m\u001b[0mnn\u001b[0m \u001b[0;32mas\u001b[0m \u001b[0mnn\u001b[0m\u001b[0;34m\u001b[0m\u001b[0;34m\u001b[0m\u001b[0m\n\u001b[1;32m      3\u001b[0m \u001b[0;32mimport\u001b[0m \u001b[0mtorch\u001b[0m\u001b[0;34m.\u001b[0m\u001b[0mnn\u001b[0m\u001b[0;34m.\u001b[0m\u001b[0mfunctional\u001b[0m \u001b[0;32mas\u001b[0m \u001b[0mF\u001b[0m\u001b[0;34m\u001b[0m\u001b[0;34m\u001b[0m\u001b[0m\n\u001b[0;32m----> 4\u001b[0;31m \u001b[0;32mfrom\u001b[0m \u001b[0mmodels\u001b[0m\u001b[0;34m.\u001b[0m\u001b[0mutils\u001b[0m\u001b[0;34m.\u001b[0m\u001b[0mutils\u001b[0m \u001b[0;32mimport\u001b[0m \u001b[0mBasconv\u001b[0m\u001b[0;34m,\u001b[0m \u001b[0mUnetConv\u001b[0m\u001b[0;34m,\u001b[0m \u001b[0mUnetUp\u001b[0m\u001b[0;34m,\u001b[0m \u001b[0mUnetUp4\u001b[0m\u001b[0;34m,\u001b[0m \u001b[0mGloRe_Unit\u001b[0m\u001b[0;34m\u001b[0m\u001b[0;34m\u001b[0m\u001b[0m\n\u001b[0m\u001b[1;32m      5\u001b[0m \u001b[0;32mfrom\u001b[0m \u001b[0mcollections\u001b[0m \u001b[0;32mimport\u001b[0m \u001b[0mOrderedDict\u001b[0m\u001b[0;34m\u001b[0m\u001b[0;34m\u001b[0m\u001b[0m\n\u001b[1;32m      6\u001b[0m \u001b[0;32mfrom\u001b[0m \u001b[0mmodels\u001b[0m\u001b[0;34m.\u001b[0m\u001b[0mutils\u001b[0m\u001b[0;34m.\u001b[0m\u001b[0minit_weights\u001b[0m \u001b[0;32mimport\u001b[0m \u001b[0minit_weights\u001b[0m\u001b[0;34m\u001b[0m\u001b[0;34m\u001b[0m\u001b[0m\n",
            "\u001b[0;32m/content/drive/MyDrive/MGUNetmain/models/utils/utils.py\u001b[0m in \u001b[0;36m<module>\u001b[0;34m()\u001b[0m\n\u001b[1;32m      2\u001b[0m \u001b[0;32mimport\u001b[0m \u001b[0mtorch\u001b[0m\u001b[0;34m.\u001b[0m\u001b[0mnn\u001b[0m \u001b[0;32mas\u001b[0m \u001b[0mnn\u001b[0m\u001b[0;34m\u001b[0m\u001b[0;34m\u001b[0m\u001b[0m\n\u001b[1;32m      3\u001b[0m \u001b[0;32mimport\u001b[0m \u001b[0mtorch\u001b[0m\u001b[0;34m.\u001b[0m\u001b[0mnn\u001b[0m\u001b[0;34m.\u001b[0m\u001b[0mfunctional\u001b[0m \u001b[0;32mas\u001b[0m \u001b[0mF\u001b[0m\u001b[0;34m\u001b[0m\u001b[0;34m\u001b[0m\u001b[0m\n\u001b[0;32m----> 4\u001b[0;31m \u001b[0;32mfrom\u001b[0m \u001b[0minit_weights\u001b[0m \u001b[0;32mimport\u001b[0m \u001b[0minit_weights\u001b[0m\u001b[0;34m\u001b[0m\u001b[0;34m\u001b[0m\u001b[0m\n\u001b[0m\u001b[1;32m      5\u001b[0m \u001b[0;34m\u001b[0m\u001b[0m\n\u001b[1;32m      6\u001b[0m \u001b[0;32mclass\u001b[0m \u001b[0mBasconv\u001b[0m\u001b[0;34m(\u001b[0m\u001b[0mnn\u001b[0m\u001b[0;34m.\u001b[0m\u001b[0mSequential\u001b[0m\u001b[0;34m)\u001b[0m\u001b[0;34m:\u001b[0m\u001b[0;34m\u001b[0m\u001b[0;34m\u001b[0m\u001b[0m\n",
            "\u001b[0;31mModuleNotFoundError\u001b[0m: No module named 'init_weights'"
          ]
        }
      ]
    },
    {
      "cell_type": "code",
      "source": [
        "import torch \n",
        "assert torch.cuda.is_available()"
      ],
      "metadata": {
        "id": "p9bA11zpV766"
      },
      "execution_count": null,
      "outputs": []
    },
    {
      "cell_type": "code",
      "source": [
        "%run nvcc -V"
      ],
      "metadata": {
        "colab": {
          "base_uri": "https://localhost:8080/"
        },
        "id": "985TeAW-SyjP",
        "outputId": "80d331a3-8323-4b94-ccdf-66eb9dde8e5a"
      },
      "execution_count": 5,
      "outputs": [
        {
          "output_type": "stream",
          "name": "stderr",
          "text": [
            "[2022-03-27 12:13:24,149 execution.py:622 run] File `'nvcc.py'` not found.\n"
          ]
        }
      ]
    },
    {
      "cell_type": "code",
      "source": [
        "cd drive/MyDrive/MGUNetmain/"
      ],
      "metadata": {
        "colab": {
          "base_uri": "https://localhost:8080/"
        },
        "id": "NPEKe41CLgIf",
        "outputId": "da5d0d19-d6bb-4831-84c2-3be9e66b7a0b"
      },
      "execution_count": 2,
      "outputs": [
        {
          "output_type": "stream",
          "name": "stdout",
          "text": [
            "/content/drive/MyDrive/MGUNetmain\n"
          ]
        }
      ]
    },
    {
      "cell_type": "code",
      "source": [
        "%run main_ts.py --name tsmgunet -d ./data/dataset --batch-size 1 --epoch 50 --lr 0.001"
      ],
      "metadata": {
        "id": "sZYcbomnMimB"
      },
      "execution_count": null,
      "outputs": []
    },
    {
      "cell_type": "code",
      "source": [
        "%run cd /content/drive/MyDrive/MGUNetmain\n",
        "%run ls\n"
      ],
      "metadata": {
        "colab": {
          "base_uri": "https://localhost:8080/"
        },
        "id": "Z_PhScQCLgpL",
        "outputId": "8c460b43-ef7d-4a8c-b271-9e1da1b2a03f"
      },
      "execution_count": 16,
      "outputs": [
        {
          "output_type": "stream",
          "name": "stderr",
          "text": [
            "ERROR:root:File `'cd.py'` not found.\n",
            "ERROR:root:File `'ls.py'` not found.\n"
          ]
        }
      ]
    },
    {
      "cell_type": "code",
      "execution_count": 3,
      "metadata": {
        "id": "tvc0PZMXI6tw"
      },
      "outputs": [],
      "source": [
        "from torch.utils.data import Dataset\n",
        "from os.path import join,exists\n",
        "from PIL import Image\n",
        "import torch\n",
        "import os\n",
        "import os.path as osp\n",
        "import numpy as np \n",
        "import torchvision.transforms as tt\n",
        "import drive.MyDrive.MGUNetmain.data.seg_transforms as st\n",
        "import PIL\n",
        "import random"
      ]
    },
    {
      "cell_type": "code",
      "source": [
        "\n",
        "class segList(Dataset):\n",
        "    def __init__(self, data_dir, phase, transforms):\n",
        "        self.data_dir = data_dir\n",
        "        self.phase = phase\n",
        "        self.transforms = transforms\n",
        "        self.image_list = None\n",
        "        self.label_list = None\n",
        "        self.bbox_list = None\n",
        "        self.read_lists()\n",
        "\n",
        "    def __getitem__(self, index):\n",
        "        if self.phase == 'train':\n",
        "            self.image_list = get_list_dir(self.phase, 'img', self.data_dir)\n",
        "            self.label_list = get_list_dir(self.phase, 'mask', self.data_dir)\n",
        "            data = [Image.open(self.image_list[index])]\n",
        "            data.append(Image.open(self.label_list[index]))\n",
        "            data = list(self.transforms(*data))\n",
        "            data = [data[0],data[1].long()]\n",
        "            return tuple(data)\n",
        "        \n",
        "        if self.phase == 'eval' or 'test':\n",
        "            self.image_list = get_list_dir(self.phase, 'img', self.data_dir)\n",
        "            self.label_list = get_list_dir(self.phase, 'mask', self.data_dir)\n",
        "            data = [Image.open(self.image_list[index])]\n",
        "            imt = torch.from_numpy(np.array(data[0]))\n",
        "            data.append(Image.open(self.label_list[index]))\n",
        "            data = list(self.transforms(*data))\n",
        "            image = data[0]\n",
        "            label = data[1]\n",
        "            imn = self.image_list[index].split('/')[-1]\n",
        "            return (image,label.long(),imt,imn)\n",
        "\n",
        "        if self.phase == 'predict':\n",
        "            self.image_list = get_list_dir(self.phase, 'img', self.data_dir)\n",
        "            data = [Image.open(self.image_list[index])]\n",
        "            imt = torch.from_numpy(np.array(data[0]))\n",
        "            data = list(self.transforms(*data))\n",
        "            image = data[0]\n",
        "            imn = self.image_list[index].split('/')[-1]\n",
        "            return (image,imt,imn)\n",
        "\n",
        "    def __len__(self):\n",
        "        return len(self.image_list)\n",
        "\n",
        "    def read_lists(self):    \n",
        "        self.image_list = get_list_dir(self.phase, 'img', self.data_dir)\n",
        "        print('Total amount of {} images is : {}'.format(self.phase, len(self.image_list)))\n",
        "\n",
        "def get_list_dir(phase, type, data_dir):\n",
        "    data_dir = osp.join(data_dir, phase, type)\n",
        "    files = os.listdir(data_dir)\n",
        "    list_dir = []\n",
        "    for file in files:\n",
        "        file_dir = osp.join(data_dir, file)\n",
        "        list_dir.append(file_dir)\n",
        "    return list_dir"
      ],
      "metadata": {
        "id": "qegK8ePhJBFm"
      },
      "execution_count": 4,
      "outputs": []
    }
  ]
}